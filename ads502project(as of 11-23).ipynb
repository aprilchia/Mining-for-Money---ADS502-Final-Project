{
 "cells": [
  {
   "cell_type": "code",
   "execution_count": 1,
   "id": "762af3ba-9a8b-450d-812a-5c88bb5575ef",
   "metadata": {},
   "outputs": [
    {
     "name": "stdout",
     "output_type": "stream",
     "text": [
      "<class 'pandas.core.frame.DataFrame'>\n",
      "Index: 6492 entries, 0 to 6598\n",
      "Columns: 325 entries, work_year to company_size_Small\n",
      "dtypes: bool(322), int64(3)\n",
      "memory usage: 2.2 MB\n",
      "None\n",
      "   work_year  salary  salary_in_usd  job_title_AI Developer  \\\n",
      "0       2024  148100         148100                   False   \n",
      "1       2024   98700          98700                   False   \n",
      "2       2024  140032         140032                   False   \n",
      "3       2024  100022         100022                   False   \n",
      "4       2024  120000         120000                   False   \n",
      "\n",
      "   job_title_AI Engineer  job_title_AI Product Manager  \\\n",
      "0                  False                         False   \n",
      "1                  False                         False   \n",
      "2                  False                         False   \n",
      "3                  False                         False   \n",
      "4                  False                         False   \n",
      "\n",
      "   job_title_AI Programmer  job_title_AI Research Engineer  \\\n",
      "0                    False                           False   \n",
      "1                    False                           False   \n",
      "2                    False                           False   \n",
      "3                    False                           False   \n",
      "4                    False                           False   \n",
      "\n",
      "   job_title_AI Scientist  job_title_AWS Data Architect  ...  \\\n",
      "0                   False                         False  ...   \n",
      "1                   False                         False  ...   \n",
      "2                   False                         False  ...   \n",
      "3                   False                         False  ...   \n",
      "4                   False                         False  ...   \n",
      "\n",
      "   company_location_Switzerland  company_location_Thailand  \\\n",
      "0                         False                      False   \n",
      "1                         False                      False   \n",
      "2                         False                      False   \n",
      "3                         False                      False   \n",
      "4                         False                      False   \n",
      "\n",
      "   company_location_Turkey  company_location_Ukraine  \\\n",
      "0                    False                     False   \n",
      "1                    False                     False   \n",
      "2                    False                     False   \n",
      "3                    False                     False   \n",
      "4                    False                     False   \n",
      "\n",
      "   company_location_United Arab Emirates  company_location_United Kingdom  \\\n",
      "0                                  False                            False   \n",
      "1                                  False                            False   \n",
      "2                                  False                            False   \n",
      "3                                  False                            False   \n",
      "4                                  False                            False   \n",
      "\n",
      "   company_location_United States  company_location_Vietnam  \\\n",
      "0                            True                     False   \n",
      "1                            True                     False   \n",
      "2                            True                     False   \n",
      "3                            True                     False   \n",
      "4                            True                     False   \n",
      "\n",
      "   company_size_Medium  company_size_Small  \n",
      "0                 True               False  \n",
      "1                 True               False  \n",
      "2                 True               False  \n",
      "3                 True               False  \n",
      "4                 True               False  \n",
      "\n",
      "[5 rows x 325 columns]\n"
     ]
    }
   ],
   "source": [
    "import pandas as pd\n",
    "import numpy as np\n",
    "from sklearn.model_selection import train_test_split\n",
    "import random\n",
    "import seaborn as sns\n",
    "import matplotlib.pyplot as plt\n",
    "\n",
    "# Load the dataset \n",
    "data = pd.read_csv('data_science_salaries.csv')\n",
    "\n",
    "# Step 1: Standardize column names\n",
    "data.columns = data.columns.str.lower().str.replace(' ', '_')\n",
    "\n",
    "# Step 2: Check for duplicates and remove if any\n",
    "data = data.drop_duplicates()\n",
    "\n",
    "# Step 3: Encode categorical variables\n",
    "categorical_cols = ['job_title', 'experience_level', 'employment_type', \n",
    "                    'work_models', 'employee_residence', \n",
    "                    'salary_currency', 'company_location', 'company_size']\n",
    "\n",
    "# Using one-hot encoding\n",
    "data_encoded = pd.get_dummies(data, columns=categorical_cols, drop_first=True)\n",
    "\n",
    "# Step 4: Check for outliers in salary_in_usd using the IQR method\n",
    "q1, q3 = data['salary_in_usd'].quantile([0.25, 0.75])\n",
    "iqr = q3 - q1\n",
    "lower_bound = q1 - 1.5 * iqr\n",
    "upper_bound = q3 + 1.5 * iqr\n",
    "\n",
    "# Remove rows with outliers in salary_in_usd\n",
    "data_cleaned = data_encoded[(data['salary_in_usd'] >= lower_bound) & \n",
    "                            (data['salary_in_usd'] <= upper_bound)]\n",
    "\n",
    "# Display summary of cleaned data\n",
    "print(data_cleaned.info())\n",
    "print(data_cleaned.head())"
   ]
  },
  {
   "cell_type": "code",
   "execution_count": 2,
   "id": "407aed13-8d3a-42bd-8ab6-fb6b98f17b6a",
   "metadata": {},
   "outputs": [],
   "source": [
    "# Partition dataset \n",
    "data_train, data_test = train_test_split(data_cleaned, test_size = 0.20, random_state = 7)"
   ]
  },
  {
   "cell_type": "code",
   "execution_count": 4,
   "id": "a6731b43",
   "metadata": {},
   "outputs": [],
   "source": [
    "# Confirm split proportions\n",
    "split_proportions = pd.DataFrame({'Dataset': ['Training', 'Test'],\n",
    "                                  'Proportion': [len(data_train) / len(data_cleaned), len(data_test) / len(data_cleaned)]\n",
    "})"
   ]
  },
  {
   "cell_type": "code",
   "execution_count": 5,
   "id": "460d50b0",
   "metadata": {},
   "outputs": [
    {
     "data": {
      "image/png": "[encoded data removed]",
      "text/plain": [
       "<Figure size 640x480 with 1 Axes>"
      ]
     },
     "metadata": {},
     "output_type": "display_data"
    }
   ],
   "source": [
    "sns.barplot(x='Dataset', y='Proportion', data=split_proportions)\n",
    "\n",
    "plt.title('Proportion of Training and Test Data')\n",
    "plt.ylabel('Proportion')\n",
    "plt.xlabel('Dataset')\n",
    "plt.ylim(0, 1)\n",
    "plt.show()"
   ]
  },
  {
   "cell_type": "code",
   "execution_count": 7,
   "id": "6d368d7a",
   "metadata": {},
   "outputs": [
    {
     "name": "stdout",
     "output_type": "stream",
     "text": [
      "(6492, 325)\n",
      "(5193, 325)\n",
      "(1299, 325)\n"
     ]
    }
   ],
   "source": [
    "# Check dimensions of partitions\n",
    "print(data_cleaned.shape)\n",
    "print(data_train.shape)\n",
    "print(data_test.shape)"
   ]
  },
  {
   "cell_type": "code",
   "execution_count": null,
   "id": "e3ea30af",
   "metadata": {},
   "outputs": [],
   "source": [
    "# Rebalance"
   ]
  }
 ],
 "metadata": {
  "kernelspec": {
   "display_name": "ads502",
   "language": "python",
   "name": "python3"
  },
  "language_info": {
   "codemirror_mode": {
    "name": "ipython",
    "version": 3
   },
   "file_extension": ".py",
   "mimetype": "text/x-python",
   "name": "python",
   "nbconvert_exporter": "python",
   "pygments_lexer": "ipython3",
   "version": "3.10.9"
  }
 },
 "nbformat": 4,
 "nbformat_minor": 5
}
